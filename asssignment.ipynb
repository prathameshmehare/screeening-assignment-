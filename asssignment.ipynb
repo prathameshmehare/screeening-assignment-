{
 "cells": [
  {
   "cell_type": "code",
   "execution_count": 7,
   "id": "18bf5a8c",
   "metadata": {},
   "outputs": [
    {
     "name": "stdout",
     "output_type": "stream",
     "text": [
      "text replaced\n"
     ]
    }
   ],
   "source": [
    "#create a function in python to read the text file and replace specific content of the file\n",
    "\n",
    "search_text = \"placement\"\n",
    "replace_string = \"screening \"\n",
    "with open(r'example.txt','r') as file :\n",
    "    data = file.read()\n",
    "    data = data.replace(search_text,replace_string)\n",
    "with open(r'example.txt','w+') as file:\n",
    "    file.write(data)\n",
    "print(\"text replaced\")"
   ]
  },
  {
   "cell_type": "code",
   "execution_count": 8,
   "id": "6fdaf714",
   "metadata": {},
   "outputs": [
    {
     "name": "stdout",
     "output_type": "stream",
     "text": [
      "I can walk and run\n",
      "I can crawl\n",
      "I can bark\n",
      "I can roar\n"
     ]
    }
   ],
   "source": [
    "#demonstrate use of abstract class\n",
    "from abc import ABC, abstractmethod\n",
    "class Animal(ABC):\n",
    "    def move(self):\n",
    "        pass\n",
    "class Human(Animal):\n",
    "    def move(self):\n",
    "        try:\n",
    "            print(\"I can walk and run\")\n",
    "        except Exception as e:\n",
    "            print(e)\n",
    "class Snake(Animal):\n",
    "    def move(self):\n",
    "        try:\n",
    "            print(\"I can crawl\")\n",
    "        except Exception as e:\n",
    "            print(e)\n",
    "class Dog(Animal):\n",
    "    def move(self):\n",
    "        try:\n",
    "            print(\"I can bark\")\n",
    "        except Exception as e:\n",
    "            print(e)\n",
    "class Lion(Animal):\n",
    "    def move(self):\n",
    "        try:\n",
    "            print(\"I can roar\")\n",
    "        except Exception as e:\n",
    "            print(e)\n",
    "         \n",
    "\n",
    "        \n",
    "R = Human()\n",
    "R.move()\n",
    " \n",
    "K = Snake()\n",
    "K.move()\n",
    " \n",
    "R = Dog()\n",
    "R.move()\n",
    " \n",
    "K = Lion()\n",
    "K.move()\n",
    "\n"
   ]
  },
  {
   "cell_type": "code",
   "execution_count": 9,
   "id": "61ebfb32",
   "metadata": {},
   "outputs": [
    {
     "name": "stdout",
     "output_type": "stream",
     "text": [
      "I smash and I've got the brains!\n"
     ]
    }
   ],
   "source": [
    "#use of multiple inheritance with example\n",
    "class hulk:\n",
    "    def smash(self):\n",
    "        return \"I smash\"\n",
    "class banner:\n",
    "    def speak(self):\n",
    "        return \"I've got the brains!\"\n",
    "class smarthulk(hulk, banner):\n",
    "    pass\n",
    "s1 = smarthulk()\n",
    "print(s1.smash(), \"and\", s1.speak())"
   ]
  },
  {
   "cell_type": "code",
   "execution_count": 10,
   "id": "3d0875d1",
   "metadata": {},
   "outputs": [
    {
     "data": {
      "text/plain": [
       "'911'"
      ]
     },
     "execution_count": 10,
     "metadata": {},
     "output_type": "execute_result"
    }
   ],
   "source": [
    "#decorator in python using example\n",
    "class Cellphone:\n",
    "    def __init__(self, brand, number):\n",
    "        self.brand = brand\n",
    "        self.number = number\n",
    "        \n",
    "    def get_number(self):\n",
    "        return self.number\n",
    "      \n",
    "    @staticmethod\n",
    "    def get_emergency_number():\n",
    "        return \"911\"\n",
    "      \n",
    "Cellphone.get_emergency_number()"
   ]
  },
  {
   "cell_type": "code",
   "execution_count": null,
   "id": "1e3f1548",
   "metadata": {},
   "outputs": [],
   "source": []
  }
 ],
 "metadata": {
  "kernelspec": {
   "display_name": "Python 3 (ipykernel)",
   "language": "python",
   "name": "python3"
  },
  "language_info": {
   "codemirror_mode": {
    "name": "ipython",
    "version": 3
   },
   "file_extension": ".py",
   "mimetype": "text/x-python",
   "name": "python",
   "nbconvert_exporter": "python",
   "pygments_lexer": "ipython3",
   "version": "3.9.7"
  }
 },
 "nbformat": 4,
 "nbformat_minor": 5
}
